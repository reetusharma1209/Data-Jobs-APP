{
 "cells": [
  {
   "cell_type": "code",
   "execution_count": 1,
   "metadata": {},
   "outputs": [],
   "source": [
    "import pandas as pd\n",
    "# Step 1: Load the dataset\n",
    "file_path = 'df_cleaned.csv'  # replace with your file path\n",
    "df = pd.read_csv(file_path)\n",
    "# Step 2: Estimate the fraction for a 25MB sample\n",
    "# Assuming the CSV is 250MB, the fraction needed is approximately 10%\n",
    "fraction = 25 / 250\n",
    "# Step 3: Randomly sample the data\n",
    "df_sample = df.sample(frac=fraction, random_state=42)\n",
    "# Step 4: Save the sample to a new CSV file\n",
    "sample_file_path = 'sampled_dataset.csv'\n",
    "df_sample.to_csv(sample_file_path, index=False)"
   ]
  }
 ],
 "metadata": {
  "kernelspec": {
   "display_name": "base",
   "language": "python",
   "name": "python3"
  },
  "language_info": {
   "codemirror_mode": {
    "name": "ipython",
    "version": 3
   },
   "file_extension": ".py",
   "mimetype": "text/x-python",
   "name": "python",
   "nbconvert_exporter": "python",
   "pygments_lexer": "ipython3",
   "version": "3.11.7"
  }
 },
 "nbformat": 4,
 "nbformat_minor": 2
}
